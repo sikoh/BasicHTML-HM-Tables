{
  "cells": [
    {
      "cell_type": "markdown",
      "metadata": {
        "id": "view-in-github",
        "colab_type": "text"
      },
      "source": [
        "<a href=\"https://colab.research.google.com/github/sikoh/BasicHTML-HM-Tables/blob/main/module1-exploratory-data-analysis/LS_DS_111_Exploratory_Data_Analysis_Assignment_ANSWERS.ipynb\" target=\"_parent\"><img src=\"https://colab.research.google.com/assets/colab-badge.svg\" alt=\"Open In Colab\"/></a>"
      ]
    },
    {
      "cell_type": "markdown",
      "metadata": {
        "id": "n_H_Zxg2q01U"
      },
      "source": [
        "## Autograded Notebook (Canvas & CodeGrade)\n",
        "\n",
        "This notebook will be automatically graded. It is designed to test your answers and award points for the correct answers. Following the instructions for each Task carefully.\n",
        "\n",
        "### Instructions\n",
        "\n",
        "* **Download this notebook** as you would any other ipynb file\n",
        "* **Upload** to Google Colab or work locally (if you have that set-up)\n",
        "* **Delete `raise NotImplementedError()`**\n",
        "* Write your code in the `# YOUR CODE HERE` space\n",
        "* **Execute** the Test cells that contain `assert` statements - these help you check your work (others contain hidden tests that will be checked when you submit through Canvas)\n",
        "* **Save** your notebook when you are finished\n",
        "* **Download** as a `ipynb` file (if working in Colab)\n",
        "* **Upload** your complete notebook to Canvas (there will be additional instructions in Slack and/or Canvas)"
      ]
    },
    {
      "cell_type": "markdown",
      "metadata": {
        "id": "Ldr0HZ193GKb"
      },
      "source": [
        "# Lambda School Data Science - Unit 1 Sprint 1 Module 1\n",
        "\n",
        "## Exploratory Data Analysis\n",
        "\n",
        "### Module Learning Objectives\n",
        "\n",
        "\n",
        "- Load a CSV dataset from a URL using `pandas.read_csv`\n",
        "- Load a CSV dataset from a local file using `pandas.read_csv\n",
        "- Use basic Pandas functions for Exploratory Data Analysis-EDA\n",
        "- Describe and discriminate between basic data types such as categorical, quantitative, continuous, discrete, ordinal, nominal and identifier\n"
      ]
    },
    {
      "cell_type": "markdown",
      "metadata": {
        "id": "eB8zpDMzq01b"
      },
      "source": [
        "## Autograded Module Projects\n",
        "\n",
        "Welcome to the first Module Project of Unit 1! You will complete a project (sometimes also referred to as an assignment) after the Guided Project for each Module. There will be four Module Projects per Sprint and each project is designed to provide you with an opportunity to practice what you learned in the Canvas Warm-up material and the Guided Project with your Instructors.\n",
        "\n",
        "Throughout Unit 1, the Module Projects and the Sprint Challenges are *autograded*. You will complete your work in a Jupyter/Python notebook (the files that end with `.ipynb`) and then upload your completed notebook to Canvas and submit for grading. This autograded process will check your answers and provide more information about the errors in your notebook. You'll receive a score at the\n",
        "\n",
        "So, let's get started! If you are reading this notebook, then you have the correct autograded version."
      ]
    },
    {
      "cell_type": "markdown",
      "metadata": {
        "id": "2CkckTc6-txA"
      },
      "source": [
        "## Introduction\n",
        "\n",
        "For this module, we learned how to use some of the most common tools for exploring our data. We'll continue to practice our `pandas` skills with a new dataset.\n",
        "\n",
        "## Dataset Description\n",
        "\n",
        "Explore the University of California - Irvine Adult Dataset"
      ]
    },
    {
      "cell_type": "markdown",
      "metadata": {
        "id": "dd7NLO359fux"
      },
      "source": [
        "**Task 1** - Load a dataset via its URL\n",
        "\n",
        "* Create a Python list named `column_headers` with the following items: `'age', 'workclass', 'fnlwgt', 'education', 'education-num', 'marital-status', 'occupation', 'relationship', 'race', 'sex', 'capital-gain', 'capital-loss', 'hours-per-week','native-country', 'income'`\n",
        "* Load the file from the URL provided below using the `column_headers` list you created to name your columns: set the `pd.read_csv()` parameter **names** to `column_headers`"
      ]
    },
    {
      "cell_type": "code",
      "execution_count": 43,
      "metadata": {
        "deletable": false,
        "id": "0M6HGqld9Azy",
        "nbgrader": {
          "cell_type": "code",
          "checksum": "a3b944c912f2fd93474f840cad050d9c",
          "grade": false,
          "grade_id": "cell-8a338d1f29fadeee",
          "locked": false,
          "schema_version": 3,
          "solution": true,
          "task": false
        },
        "colab": {
          "base_uri": "https://localhost:8080/",
          "height": 772
        },
        "outputId": "3689ca5a-c95a-474c-ede5-eb7b74aa4805"
      },
      "outputs": [
        {
          "output_type": "execute_result",
          "data": {
            "text/plain": [
              "    age          workclass  fnlwgt      education  education-num  \\\n",
              "0    39          State-gov   77516      Bachelors             13   \n",
              "1    50   Self-emp-not-inc   83311      Bachelors             13   \n",
              "2    38            Private  215646        HS-grad              9   \n",
              "3    53            Private  234721           11th              7   \n",
              "4    28            Private  338409      Bachelors             13   \n",
              "5    37            Private  284582        Masters             14   \n",
              "6    49            Private  160187            9th              5   \n",
              "7    52   Self-emp-not-inc  209642        HS-grad              9   \n",
              "8    31            Private   45781        Masters             14   \n",
              "9    42            Private  159449      Bachelors             13   \n",
              "10   37            Private  280464   Some-college             10   \n",
              "11   30          State-gov  141297      Bachelors             13   \n",
              "12   23            Private  122272      Bachelors             13   \n",
              "13   32            Private  205019     Assoc-acdm             12   \n",
              "14   40            Private  121772      Assoc-voc             11   \n",
              "\n",
              "            marital-status          occupation    relationship  \\\n",
              "0            Never-married        Adm-clerical   Not-in-family   \n",
              "1       Married-civ-spouse     Exec-managerial         Husband   \n",
              "2                 Divorced   Handlers-cleaners   Not-in-family   \n",
              "3       Married-civ-spouse   Handlers-cleaners         Husband   \n",
              "4       Married-civ-spouse      Prof-specialty            Wife   \n",
              "5       Married-civ-spouse     Exec-managerial            Wife   \n",
              "6    Married-spouse-absent       Other-service   Not-in-family   \n",
              "7       Married-civ-spouse     Exec-managerial         Husband   \n",
              "8            Never-married      Prof-specialty   Not-in-family   \n",
              "9       Married-civ-spouse     Exec-managerial         Husband   \n",
              "10      Married-civ-spouse     Exec-managerial         Husband   \n",
              "11      Married-civ-spouse      Prof-specialty         Husband   \n",
              "12           Never-married        Adm-clerical       Own-child   \n",
              "13           Never-married               Sales   Not-in-family   \n",
              "14      Married-civ-spouse        Craft-repair         Husband   \n",
              "\n",
              "                   race      sex  capital-gain  capital-loss  hours-per-week  \\\n",
              "0                 White     Male          2174             0              40   \n",
              "1                 White     Male             0             0              13   \n",
              "2                 White     Male             0             0              40   \n",
              "3                 Black     Male             0             0              40   \n",
              "4                 Black   Female             0             0              40   \n",
              "5                 White   Female             0             0              40   \n",
              "6                 Black   Female             0             0              16   \n",
              "7                 White     Male             0             0              45   \n",
              "8                 White   Female         14084             0              50   \n",
              "9                 White     Male          5178             0              40   \n",
              "10                Black     Male             0             0              80   \n",
              "11   Asian-Pac-Islander     Male             0             0              40   \n",
              "12                White   Female             0             0              30   \n",
              "13                Black     Male             0             0              50   \n",
              "14   Asian-Pac-Islander     Male             0             0              40   \n",
              "\n",
              "    native-country  income  \n",
              "0    United-States   <=50K  \n",
              "1    United-States   <=50K  \n",
              "2    United-States   <=50K  \n",
              "3    United-States   <=50K  \n",
              "4             Cuba   <=50K  \n",
              "5    United-States   <=50K  \n",
              "6          Jamaica   <=50K  \n",
              "7    United-States    >50K  \n",
              "8    United-States    >50K  \n",
              "9    United-States    >50K  \n",
              "10   United-States    >50K  \n",
              "11           India    >50K  \n",
              "12   United-States   <=50K  \n",
              "13   United-States   <=50K  \n",
              "14             NaN    >50K  "
            ],
            "text/html": [
              "\n",
              "  <div id=\"df-65713bda-7d06-404b-a014-5a0bcea2f886\">\n",
              "    <div class=\"colab-df-container\">\n",
              "      <div>\n",
              "<style scoped>\n",
              "    .dataframe tbody tr th:only-of-type {\n",
              "        vertical-align: middle;\n",
              "    }\n",
              "\n",
              "    .dataframe tbody tr th {\n",
              "        vertical-align: top;\n",
              "    }\n",
              "\n",
              "    .dataframe thead th {\n",
              "        text-align: right;\n",
              "    }\n",
              "</style>\n",
              "<table border=\"1\" class=\"dataframe\">\n",
              "  <thead>\n",
              "    <tr style=\"text-align: right;\">\n",
              "      <th></th>\n",
              "      <th>age</th>\n",
              "      <th>workclass</th>\n",
              "      <th>fnlwgt</th>\n",
              "      <th>education</th>\n",
              "      <th>education-num</th>\n",
              "      <th>marital-status</th>\n",
              "      <th>occupation</th>\n",
              "      <th>relationship</th>\n",
              "      <th>race</th>\n",
              "      <th>sex</th>\n",
              "      <th>capital-gain</th>\n",
              "      <th>capital-loss</th>\n",
              "      <th>hours-per-week</th>\n",
              "      <th>native-country</th>\n",
              "      <th>income</th>\n",
              "    </tr>\n",
              "  </thead>\n",
              "  <tbody>\n",
              "    <tr>\n",
              "      <th>0</th>\n",
              "      <td>39</td>\n",
              "      <td>State-gov</td>\n",
              "      <td>77516</td>\n",
              "      <td>Bachelors</td>\n",
              "      <td>13</td>\n",
              "      <td>Never-married</td>\n",
              "      <td>Adm-clerical</td>\n",
              "      <td>Not-in-family</td>\n",
              "      <td>White</td>\n",
              "      <td>Male</td>\n",
              "      <td>2174</td>\n",
              "      <td>0</td>\n",
              "      <td>40</td>\n",
              "      <td>United-States</td>\n",
              "      <td>&lt;=50K</td>\n",
              "    </tr>\n",
              "    <tr>\n",
              "      <th>1</th>\n",
              "      <td>50</td>\n",
              "      <td>Self-emp-not-inc</td>\n",
              "      <td>83311</td>\n",
              "      <td>Bachelors</td>\n",
              "      <td>13</td>\n",
              "      <td>Married-civ-spouse</td>\n",
              "      <td>Exec-managerial</td>\n",
              "      <td>Husband</td>\n",
              "      <td>White</td>\n",
              "      <td>Male</td>\n",
              "      <td>0</td>\n",
              "      <td>0</td>\n",
              "      <td>13</td>\n",
              "      <td>United-States</td>\n",
              "      <td>&lt;=50K</td>\n",
              "    </tr>\n",
              "    <tr>\n",
              "      <th>2</th>\n",
              "      <td>38</td>\n",
              "      <td>Private</td>\n",
              "      <td>215646</td>\n",
              "      <td>HS-grad</td>\n",
              "      <td>9</td>\n",
              "      <td>Divorced</td>\n",
              "      <td>Handlers-cleaners</td>\n",
              "      <td>Not-in-family</td>\n",
              "      <td>White</td>\n",
              "      <td>Male</td>\n",
              "      <td>0</td>\n",
              "      <td>0</td>\n",
              "      <td>40</td>\n",
              "      <td>United-States</td>\n",
              "      <td>&lt;=50K</td>\n",
              "    </tr>\n",
              "    <tr>\n",
              "      <th>3</th>\n",
              "      <td>53</td>\n",
              "      <td>Private</td>\n",
              "      <td>234721</td>\n",
              "      <td>11th</td>\n",
              "      <td>7</td>\n",
              "      <td>Married-civ-spouse</td>\n",
              "      <td>Handlers-cleaners</td>\n",
              "      <td>Husband</td>\n",
              "      <td>Black</td>\n",
              "      <td>Male</td>\n",
              "      <td>0</td>\n",
              "      <td>0</td>\n",
              "      <td>40</td>\n",
              "      <td>United-States</td>\n",
              "      <td>&lt;=50K</td>\n",
              "    </tr>\n",
              "    <tr>\n",
              "      <th>4</th>\n",
              "      <td>28</td>\n",
              "      <td>Private</td>\n",
              "      <td>338409</td>\n",
              "      <td>Bachelors</td>\n",
              "      <td>13</td>\n",
              "      <td>Married-civ-spouse</td>\n",
              "      <td>Prof-specialty</td>\n",
              "      <td>Wife</td>\n",
              "      <td>Black</td>\n",
              "      <td>Female</td>\n",
              "      <td>0</td>\n",
              "      <td>0</td>\n",
              "      <td>40</td>\n",
              "      <td>Cuba</td>\n",
              "      <td>&lt;=50K</td>\n",
              "    </tr>\n",
              "    <tr>\n",
              "      <th>5</th>\n",
              "      <td>37</td>\n",
              "      <td>Private</td>\n",
              "      <td>284582</td>\n",
              "      <td>Masters</td>\n",
              "      <td>14</td>\n",
              "      <td>Married-civ-spouse</td>\n",
              "      <td>Exec-managerial</td>\n",
              "      <td>Wife</td>\n",
              "      <td>White</td>\n",
              "      <td>Female</td>\n",
              "      <td>0</td>\n",
              "      <td>0</td>\n",
              "      <td>40</td>\n",
              "      <td>United-States</td>\n",
              "      <td>&lt;=50K</td>\n",
              "    </tr>\n",
              "    <tr>\n",
              "      <th>6</th>\n",
              "      <td>49</td>\n",
              "      <td>Private</td>\n",
              "      <td>160187</td>\n",
              "      <td>9th</td>\n",
              "      <td>5</td>\n",
              "      <td>Married-spouse-absent</td>\n",
              "      <td>Other-service</td>\n",
              "      <td>Not-in-family</td>\n",
              "      <td>Black</td>\n",
              "      <td>Female</td>\n",
              "      <td>0</td>\n",
              "      <td>0</td>\n",
              "      <td>16</td>\n",
              "      <td>Jamaica</td>\n",
              "      <td>&lt;=50K</td>\n",
              "    </tr>\n",
              "    <tr>\n",
              "      <th>7</th>\n",
              "      <td>52</td>\n",
              "      <td>Self-emp-not-inc</td>\n",
              "      <td>209642</td>\n",
              "      <td>HS-grad</td>\n",
              "      <td>9</td>\n",
              "      <td>Married-civ-spouse</td>\n",
              "      <td>Exec-managerial</td>\n",
              "      <td>Husband</td>\n",
              "      <td>White</td>\n",
              "      <td>Male</td>\n",
              "      <td>0</td>\n",
              "      <td>0</td>\n",
              "      <td>45</td>\n",
              "      <td>United-States</td>\n",
              "      <td>&gt;50K</td>\n",
              "    </tr>\n",
              "    <tr>\n",
              "      <th>8</th>\n",
              "      <td>31</td>\n",
              "      <td>Private</td>\n",
              "      <td>45781</td>\n",
              "      <td>Masters</td>\n",
              "      <td>14</td>\n",
              "      <td>Never-married</td>\n",
              "      <td>Prof-specialty</td>\n",
              "      <td>Not-in-family</td>\n",
              "      <td>White</td>\n",
              "      <td>Female</td>\n",
              "      <td>14084</td>\n",
              "      <td>0</td>\n",
              "      <td>50</td>\n",
              "      <td>United-States</td>\n",
              "      <td>&gt;50K</td>\n",
              "    </tr>\n",
              "    <tr>\n",
              "      <th>9</th>\n",
              "      <td>42</td>\n",
              "      <td>Private</td>\n",
              "      <td>159449</td>\n",
              "      <td>Bachelors</td>\n",
              "      <td>13</td>\n",
              "      <td>Married-civ-spouse</td>\n",
              "      <td>Exec-managerial</td>\n",
              "      <td>Husband</td>\n",
              "      <td>White</td>\n",
              "      <td>Male</td>\n",
              "      <td>5178</td>\n",
              "      <td>0</td>\n",
              "      <td>40</td>\n",
              "      <td>United-States</td>\n",
              "      <td>&gt;50K</td>\n",
              "    </tr>\n",
              "    <tr>\n",
              "      <th>10</th>\n",
              "      <td>37</td>\n",
              "      <td>Private</td>\n",
              "      <td>280464</td>\n",
              "      <td>Some-college</td>\n",
              "      <td>10</td>\n",
              "      <td>Married-civ-spouse</td>\n",
              "      <td>Exec-managerial</td>\n",
              "      <td>Husband</td>\n",
              "      <td>Black</td>\n",
              "      <td>Male</td>\n",
              "      <td>0</td>\n",
              "      <td>0</td>\n",
              "      <td>80</td>\n",
              "      <td>United-States</td>\n",
              "      <td>&gt;50K</td>\n",
              "    </tr>\n",
              "    <tr>\n",
              "      <th>11</th>\n",
              "      <td>30</td>\n",
              "      <td>State-gov</td>\n",
              "      <td>141297</td>\n",
              "      <td>Bachelors</td>\n",
              "      <td>13</td>\n",
              "      <td>Married-civ-spouse</td>\n",
              "      <td>Prof-specialty</td>\n",
              "      <td>Husband</td>\n",
              "      <td>Asian-Pac-Islander</td>\n",
              "      <td>Male</td>\n",
              "      <td>0</td>\n",
              "      <td>0</td>\n",
              "      <td>40</td>\n",
              "      <td>India</td>\n",
              "      <td>&gt;50K</td>\n",
              "    </tr>\n",
              "    <tr>\n",
              "      <th>12</th>\n",
              "      <td>23</td>\n",
              "      <td>Private</td>\n",
              "      <td>122272</td>\n",
              "      <td>Bachelors</td>\n",
              "      <td>13</td>\n",
              "      <td>Never-married</td>\n",
              "      <td>Adm-clerical</td>\n",
              "      <td>Own-child</td>\n",
              "      <td>White</td>\n",
              "      <td>Female</td>\n",
              "      <td>0</td>\n",
              "      <td>0</td>\n",
              "      <td>30</td>\n",
              "      <td>United-States</td>\n",
              "      <td>&lt;=50K</td>\n",
              "    </tr>\n",
              "    <tr>\n",
              "      <th>13</th>\n",
              "      <td>32</td>\n",
              "      <td>Private</td>\n",
              "      <td>205019</td>\n",
              "      <td>Assoc-acdm</td>\n",
              "      <td>12</td>\n",
              "      <td>Never-married</td>\n",
              "      <td>Sales</td>\n",
              "      <td>Not-in-family</td>\n",
              "      <td>Black</td>\n",
              "      <td>Male</td>\n",
              "      <td>0</td>\n",
              "      <td>0</td>\n",
              "      <td>50</td>\n",
              "      <td>United-States</td>\n",
              "      <td>&lt;=50K</td>\n",
              "    </tr>\n",
              "    <tr>\n",
              "      <th>14</th>\n",
              "      <td>40</td>\n",
              "      <td>Private</td>\n",
              "      <td>121772</td>\n",
              "      <td>Assoc-voc</td>\n",
              "      <td>11</td>\n",
              "      <td>Married-civ-spouse</td>\n",
              "      <td>Craft-repair</td>\n",
              "      <td>Husband</td>\n",
              "      <td>Asian-Pac-Islander</td>\n",
              "      <td>Male</td>\n",
              "      <td>0</td>\n",
              "      <td>0</td>\n",
              "      <td>40</td>\n",
              "      <td>NaN</td>\n",
              "      <td>&gt;50K</td>\n",
              "    </tr>\n",
              "  </tbody>\n",
              "</table>\n",
              "</div>\n",
              "      <button class=\"colab-df-convert\" onclick=\"convertToInteractive('df-65713bda-7d06-404b-a014-5a0bcea2f886')\"\n",
              "              title=\"Convert this dataframe to an interactive table.\"\n",
              "              style=\"display:none;\">\n",
              "        \n",
              "  <svg xmlns=\"http://www.w3.org/2000/svg\" height=\"24px\"viewBox=\"0 0 24 24\"\n",
              "       width=\"24px\">\n",
              "    <path d=\"M0 0h24v24H0V0z\" fill=\"none\"/>\n",
              "    <path d=\"M18.56 5.44l.94 2.06.94-2.06 2.06-.94-2.06-.94-.94-2.06-.94 2.06-2.06.94zm-11 1L8.5 8.5l.94-2.06 2.06-.94-2.06-.94L8.5 2.5l-.94 2.06-2.06.94zm10 10l.94 2.06.94-2.06 2.06-.94-2.06-.94-.94-2.06-.94 2.06-2.06.94z\"/><path d=\"M17.41 7.96l-1.37-1.37c-.4-.4-.92-.59-1.43-.59-.52 0-1.04.2-1.43.59L10.3 9.45l-7.72 7.72c-.78.78-.78 2.05 0 2.83L4 21.41c.39.39.9.59 1.41.59.51 0 1.02-.2 1.41-.59l7.78-7.78 2.81-2.81c.8-.78.8-2.07 0-2.86zM5.41 20L4 18.59l7.72-7.72 1.47 1.35L5.41 20z\"/>\n",
              "  </svg>\n",
              "      </button>\n",
              "      \n",
              "  <style>\n",
              "    .colab-df-container {\n",
              "      display:flex;\n",
              "      flex-wrap:wrap;\n",
              "      gap: 12px;\n",
              "    }\n",
              "\n",
              "    .colab-df-convert {\n",
              "      background-color: #E8F0FE;\n",
              "      border: none;\n",
              "      border-radius: 50%;\n",
              "      cursor: pointer;\n",
              "      display: none;\n",
              "      fill: #1967D2;\n",
              "      height: 32px;\n",
              "      padding: 0 0 0 0;\n",
              "      width: 32px;\n",
              "    }\n",
              "\n",
              "    .colab-df-convert:hover {\n",
              "      background-color: #E2EBFA;\n",
              "      box-shadow: 0px 1px 2px rgba(60, 64, 67, 0.3), 0px 1px 3px 1px rgba(60, 64, 67, 0.15);\n",
              "      fill: #174EA6;\n",
              "    }\n",
              "\n",
              "    [theme=dark] .colab-df-convert {\n",
              "      background-color: #3B4455;\n",
              "      fill: #D2E3FC;\n",
              "    }\n",
              "\n",
              "    [theme=dark] .colab-df-convert:hover {\n",
              "      background-color: #434B5C;\n",
              "      box-shadow: 0px 1px 3px 1px rgba(0, 0, 0, 0.15);\n",
              "      filter: drop-shadow(0px 1px 2px rgba(0, 0, 0, 0.3));\n",
              "      fill: #FFFFFF;\n",
              "    }\n",
              "  </style>\n",
              "\n",
              "      <script>\n",
              "        const buttonEl =\n",
              "          document.querySelector('#df-65713bda-7d06-404b-a014-5a0bcea2f886 button.colab-df-convert');\n",
              "        buttonEl.style.display =\n",
              "          google.colab.kernel.accessAllowed ? 'block' : 'none';\n",
              "\n",
              "        async function convertToInteractive(key) {\n",
              "          const element = document.querySelector('#df-65713bda-7d06-404b-a014-5a0bcea2f886');\n",
              "          const dataTable =\n",
              "            await google.colab.kernel.invokeFunction('convertToInteractive',\n",
              "                                                     [key], {});\n",
              "          if (!dataTable) return;\n",
              "\n",
              "          const docLinkHtml = 'Like what you see? Visit the ' +\n",
              "            '<a target=\"_blank\" href=https://colab.research.google.com/notebooks/data_table.ipynb>data table notebook</a>'\n",
              "            + ' to learn more about interactive tables.';\n",
              "          element.innerHTML = '';\n",
              "          dataTable['output_type'] = 'display_data';\n",
              "          await google.colab.output.renderOutput(dataTable, element);\n",
              "          const docLink = document.createElement('div');\n",
              "          docLink.innerHTML = docLinkHtml;\n",
              "          element.appendChild(docLink);\n",
              "        }\n",
              "      </script>\n",
              "    </div>\n",
              "  </div>\n",
              "  "
            ]
          },
          "metadata": {},
          "execution_count": 43
        }
      ],
      "source": [
        "# Task 1\n",
        "import pandas as pd\n",
        "import numpy as np\n",
        "\n",
        "# URL for the dataset\n",
        "data_url = 'https://archive.ics.uci.edu/ml/machine-learning-databases/adult/adult.data'\n",
        "\n",
        "# YOUR CODE HERE\n",
        "column_headers = ['age', 'workclass', 'fnlwgt', 'education', 'education-num', 'marital-status', 'occupation', 'relationship', 'race', 'sex', 'capital-gain', 'capital-loss', 'hours-per-week','native-country', 'income']\n",
        "\n",
        "a = pd.read_csv(data_url, names = column_headers, na_values = ' ?')\n",
        "adult = pd.DataFrame(data = a)\n",
        "# Print out your DataFrame\n",
        "adult.head(15)"
      ]
    },
    {
      "cell_type": "markdown",
      "metadata": {
        "id": "D-IDrn9dq01g"
      },
      "source": [
        "**Task 1 Test**"
      ]
    },
    {
      "cell_type": "code",
      "execution_count": 18,
      "metadata": {
        "deletable": false,
        "editable": false,
        "nbgrader": {
          "cell_type": "code",
          "checksum": "28ac2e9f1ad52f4fc6a7ca6e281297ad",
          "grade": true,
          "grade_id": "cell-6593303164ade3dd",
          "locked": true,
          "points": 1,
          "schema_version": 3,
          "solution": false,
          "task": false
        },
        "id": "1IWERI1Eq01h"
      },
      "outputs": [],
      "source": [
        "# Task 1 - Test\n",
        "\n",
        "# These tests are for you to check your work before submitting\n",
        "assert isinstance(column_headers, list), 'Have you created a list of header names?'\n",
        "assert len(column_headers) == 15, 'Did you include the correct number of items in the column_headers list?'\n",
        "assert isinstance(adult, pd.DataFrame), 'Have you created a DataFrame named adult?'\n",
        "\n",
        "# These tests will be completed when you submit your notebook for autograding"
      ]
    },
    {
      "cell_type": "markdown",
      "metadata": {
        "id": "HSsStMHQ5x3B"
      },
      "source": [
        "**Task 2** - Look at the first and last rows of the DataFrame\n",
        "\n",
        "* Assign the first **ten (10)** rows of the `adult` DataFrame to `adult_head`\n",
        "* Assign the last **ten (10)** rows of the `adult` DataFrame to `adult_tail`"
      ]
    },
    {
      "cell_type": "code",
      "execution_count": 20,
      "metadata": {
        "deletable": false,
        "id": "MRxFDeCAXyTI",
        "nbgrader": {
          "cell_type": "code",
          "checksum": "630f5267044f54fe20c15b50b0259932",
          "grade": false,
          "grade_id": "cell-a9fb33ec1c6025a8",
          "locked": false,
          "schema_version": 3,
          "solution": true,
          "task": false
        },
        "colab": {
          "base_uri": "https://localhost:8080/"
        },
        "outputId": "8f62d2d1-8d46-4102-f14a-f992e16c94ff"
      },
      "outputs": [
        {
          "output_type": "stream",
          "name": "stdout",
          "text": [
            "   age          workclass  fnlwgt   education  education-num  \\\n",
            "0   39          State-gov   77516   Bachelors             13   \n",
            "1   50   Self-emp-not-inc   83311   Bachelors             13   \n",
            "2   38            Private  215646     HS-grad              9   \n",
            "3   53            Private  234721        11th              7   \n",
            "4   28            Private  338409   Bachelors             13   \n",
            "5   37            Private  284582     Masters             14   \n",
            "6   49            Private  160187         9th              5   \n",
            "7   52   Self-emp-not-inc  209642     HS-grad              9   \n",
            "8   31            Private   45781     Masters             14   \n",
            "9   42            Private  159449   Bachelors             13   \n",
            "\n",
            "           marital-status          occupation    relationship    race  \\\n",
            "0           Never-married        Adm-clerical   Not-in-family   White   \n",
            "1      Married-civ-spouse     Exec-managerial         Husband   White   \n",
            "2                Divorced   Handlers-cleaners   Not-in-family   White   \n",
            "3      Married-civ-spouse   Handlers-cleaners         Husband   Black   \n",
            "4      Married-civ-spouse      Prof-specialty            Wife   Black   \n",
            "5      Married-civ-spouse     Exec-managerial            Wife   White   \n",
            "6   Married-spouse-absent       Other-service   Not-in-family   Black   \n",
            "7      Married-civ-spouse     Exec-managerial         Husband   White   \n",
            "8           Never-married      Prof-specialty   Not-in-family   White   \n",
            "9      Married-civ-spouse     Exec-managerial         Husband   White   \n",
            "\n",
            "       sex  capital-gain  capital-loss  hours-per-week  native-country  income  \n",
            "0     Male          2174             0              40   United-States   <=50K  \n",
            "1     Male             0             0              13   United-States   <=50K  \n",
            "2     Male             0             0              40   United-States   <=50K  \n",
            "3     Male             0             0              40   United-States   <=50K  \n",
            "4   Female             0             0              40            Cuba   <=50K  \n",
            "5   Female             0             0              40   United-States   <=50K  \n",
            "6   Female             0             0              16         Jamaica   <=50K  \n",
            "7     Male             0             0              45   United-States    >50K  \n",
            "8   Female         14084             0              50   United-States    >50K  \n",
            "9     Male          5178             0              40   United-States    >50K  \n",
            "       age      workclass  fnlwgt      education  education-num  \\\n",
            "32551   32        Private   34066           10th              6   \n",
            "32552   43        Private   84661      Assoc-voc             11   \n",
            "32553   32        Private  116138        Masters             14   \n",
            "32554   53        Private  321865        Masters             14   \n",
            "32555   22        Private  310152   Some-college             10   \n",
            "32556   27        Private  257302     Assoc-acdm             12   \n",
            "32557   40        Private  154374        HS-grad              9   \n",
            "32558   58        Private  151910        HS-grad              9   \n",
            "32559   22        Private  201490        HS-grad              9   \n",
            "32560   52   Self-emp-inc  287927        HS-grad              9   \n",
            "\n",
            "            marital-status          occupation    relationship  \\\n",
            "32551   Married-civ-spouse   Handlers-cleaners         Husband   \n",
            "32552   Married-civ-spouse               Sales         Husband   \n",
            "32553        Never-married        Tech-support   Not-in-family   \n",
            "32554   Married-civ-spouse     Exec-managerial         Husband   \n",
            "32555        Never-married     Protective-serv   Not-in-family   \n",
            "32556   Married-civ-spouse        Tech-support            Wife   \n",
            "32557   Married-civ-spouse   Machine-op-inspct         Husband   \n",
            "32558              Widowed        Adm-clerical       Unmarried   \n",
            "32559        Never-married        Adm-clerical       Own-child   \n",
            "32560   Married-civ-spouse     Exec-managerial            Wife   \n",
            "\n",
            "                      race      sex  capital-gain  capital-loss  \\\n",
            "32551   Amer-Indian-Eskimo     Male             0             0   \n",
            "32552                White     Male             0             0   \n",
            "32553   Asian-Pac-Islander     Male             0             0   \n",
            "32554                White     Male             0             0   \n",
            "32555                White     Male             0             0   \n",
            "32556                White   Female             0             0   \n",
            "32557                White     Male             0             0   \n",
            "32558                White   Female             0             0   \n",
            "32559                White     Male             0             0   \n",
            "32560                White   Female         15024             0   \n",
            "\n",
            "       hours-per-week  native-country  income  \n",
            "32551              40   United-States   <=50K  \n",
            "32552              45   United-States   <=50K  \n",
            "32553              11          Taiwan   <=50K  \n",
            "32554              40   United-States    >50K  \n",
            "32555              40   United-States   <=50K  \n",
            "32556              38   United-States   <=50K  \n",
            "32557              40   United-States    >50K  \n",
            "32558              40   United-States   <=50K  \n",
            "32559              20   United-States   <=50K  \n",
            "32560              40   United-States    >50K  \n"
          ]
        }
      ],
      "source": [
        "# Task 2\n",
        "\n",
        "# YOUR CODE HERE\n",
        "adult_head = adult.head(10)\n",
        "\n",
        "adult_tail = adult.tail(10)\n",
        "# Optional: print out adult_head and adult_tail\n",
        "print(adult_head)\n",
        "print(adult_tail)"
      ]
    },
    {
      "cell_type": "markdown",
      "metadata": {
        "id": "tYo2Mziqq01l"
      },
      "source": [
        "**Task 2 Test**"
      ]
    },
    {
      "cell_type": "code",
      "execution_count": 21,
      "metadata": {
        "deletable": false,
        "editable": false,
        "nbgrader": {
          "cell_type": "code",
          "checksum": "853ce4176ae6cde6d695718dc81cbc33",
          "grade": true,
          "grade_id": "cell-db111c4de2805de2",
          "locked": true,
          "points": 1,
          "schema_version": 3,
          "solution": false,
          "task": false
        },
        "id": "F4--odPLq01m"
      },
      "outputs": [],
      "source": [
        "# Task 2 - Test\n",
        "\n",
        "# These tests are for you to check your work before submitting\n",
        "assert isinstance(adult_head, pd.DataFrame), 'Have you created a DataFrame named adult_head?'\n",
        "assert isinstance(adult_tail, pd.DataFrame), 'Have you created a DataFrame named adult_tail?'\n",
        "\n",
        "# These tests will be completed when you submit your notebook for autograding"
      ]
    },
    {
      "cell_type": "markdown",
      "metadata": {
        "id": "oMYl6Og4baK-"
      },
      "source": [
        "**Task 3** - Variable data types\n",
        "\n",
        "For your `adult` DataFrame, determine the data types for the variables.\n",
        "\n",
        "* Count the number of `int64` variable types and assign to `number_int64` (your value should be an integer)\n",
        "* Count the number of `object` variable types and assign to `number_object` (your value should be an integer)\n",
        "\n",
        "There are different ways to find the data types of the columns in a DataFrame. All you need to do for this task is to count the number of each data type and assign to the corresponding variable."
      ]
    },
    {
      "cell_type": "code",
      "execution_count": 32,
      "metadata": {
        "deletable": false,
        "id": "0awSPnZ6bc2L",
        "nbgrader": {
          "cell_type": "code",
          "checksum": "11a54a43888fa697e08bce22de67bed1",
          "grade": false,
          "grade_id": "cell-340508752abebcbf",
          "locked": false,
          "schema_version": 3,
          "solution": true,
          "task": false
        },
        "colab": {
          "base_uri": "https://localhost:8080/"
        },
        "outputId": "11b67026-aa0c-4035-d53a-ade00a9c57a8"
      },
      "outputs": [
        {
          "output_type": "stream",
          "name": "stdout",
          "text": [
            "6\n",
            "9\n"
          ]
        }
      ],
      "source": [
        "# Task 3\n",
        "\n",
        "# YOUR CODE HERE\n",
        "number_int64 = adult.dtypes.value_counts().int64\n",
        "print(number_int64)\n",
        "\n",
        "number_object = adult.dtypes.value_counts().object\n",
        "print(number_object)"
      ]
    },
    {
      "cell_type": "markdown",
      "metadata": {
        "id": "cT6IvhVOq01n"
      },
      "source": [
        "**Task 3 Test**"
      ]
    },
    {
      "cell_type": "code",
      "execution_count": 29,
      "metadata": {
        "deletable": false,
        "editable": false,
        "nbgrader": {
          "cell_type": "code",
          "checksum": "7a7b195b66ad8a22d3681aa4b2ceccb2",
          "grade": true,
          "grade_id": "cell-05ba0ce5673511d6",
          "locked": true,
          "points": 1,
          "schema_version": 3,
          "solution": false,
          "task": false
        },
        "id": "JIN_NH9eq01n"
      },
      "outputs": [],
      "source": [
        "# Task 3 - Test\n",
        "\n",
        "# Hidden tests - you will see the results when you submit to Canvas"
      ]
    },
    {
      "cell_type": "markdown",
      "metadata": {
        "id": "H58VKvI8bjS1"
      },
      "source": [
        "**Task 4** - DataFrame dimensions\n",
        "\n",
        "* Find the dimensions of your DataFrame and assign result to the variable `adult_dimension`. Your variable should be a *tuple* and the row dimension should be listed first.\n",
        "\n",
        "Hint: A tuple looks like this: (1, 2) - a tuple is a collection which is ordered and unchangeable. You can use the function `type(your_variable)` to print the variable type.\n",
        "\n",
        "Hint 2: The `shape` method returns a tuple - convenient!"
      ]
    },
    {
      "cell_type": "code",
      "execution_count": 35,
      "metadata": {
        "deletable": false,
        "id": "ket3F7EAbt75",
        "nbgrader": {
          "cell_type": "code",
          "checksum": "9d93962a691a70cbac5f46a4f974bcd7",
          "grade": false,
          "grade_id": "cell-d70ccb5657fd3d7b",
          "locked": false,
          "schema_version": 3,
          "solution": true,
          "task": false
        },
        "colab": {
          "base_uri": "https://localhost:8080/"
        },
        "outputId": "1e72f3b2-9e01-485d-ffcf-eb07aa80880f"
      },
      "outputs": [
        {
          "output_type": "stream",
          "name": "stdout",
          "text": [
            "(32561, 15)\n"
          ]
        }
      ],
      "source": [
        "# Task 4\n",
        "\n",
        "# YOUR CODE HERE\n",
        "adult_dimension = adult.shape\n",
        "\n",
        "# Print out the shape\n",
        "print(adult_dimension)"
      ]
    },
    {
      "cell_type": "markdown",
      "metadata": {
        "id": "lwNYr9hoq01p"
      },
      "source": [
        "**Task 4 Test**"
      ]
    },
    {
      "cell_type": "code",
      "execution_count": 36,
      "metadata": {
        "deletable": false,
        "editable": false,
        "nbgrader": {
          "cell_type": "code",
          "checksum": "f3efac82e36e9c6bf916132239c75cd2",
          "grade": true,
          "grade_id": "cell-6826bc35a7f56e9d",
          "locked": true,
          "points": 1,
          "schema_version": 3,
          "solution": false,
          "task": false
        },
        "id": "1UR5beGTq01p"
      },
      "outputs": [],
      "source": [
        "# Task 4 - Test\n",
        "\n",
        "assert isinstance(adult_dimension, tuple), 'Have you created a tuple named adult_dimension?'\n",
        "\n",
        "# Hidden tests - you will see the results when you submit to Canvas"
      ]
    },
    {
      "cell_type": "markdown",
      "metadata": {
        "id": "myXXrct79tMI"
      },
      "source": [
        "**Task 5** - Missing values\n",
        "\n",
        "Are there any missing values in the dataset? Let's check!\n",
        "\n",
        "* Check for missing values using `.isnull().sum()`\n",
        "* Count the number of missing values and assign the value to the variable `adult_missing`. Your variable should be an integer."
      ]
    },
    {
      "cell_type": "code",
      "execution_count": 44,
      "metadata": {
        "deletable": false,
        "id": "fBCiVy7r-WlX",
        "nbgrader": {
          "cell_type": "code",
          "checksum": "17aaa9ca4205aa42e35066d21dc5d1f6",
          "grade": false,
          "grade_id": "cell-061626ea17d6ee51",
          "locked": false,
          "schema_version": 3,
          "solution": true,
          "task": false
        },
        "colab": {
          "base_uri": "https://localhost:8080/"
        },
        "outputId": "583524ee-0eee-4849-9527-e753cfe54655"
      },
      "outputs": [
        {
          "output_type": "stream",
          "name": "stdout",
          "text": [
            "age                  0\n",
            "workclass         1836\n",
            "fnlwgt               0\n",
            "education            0\n",
            "education-num        0\n",
            "marital-status       0\n",
            "occupation        1843\n",
            "relationship         0\n",
            "race                 0\n",
            "sex                  0\n",
            "capital-gain         0\n",
            "capital-loss         0\n",
            "hours-per-week       0\n",
            "native-country     583\n",
            "income               0\n",
            "dtype: int64\n"
          ]
        }
      ],
      "source": [
        "# Task 5\n",
        "\n",
        "# YOUR CODE HERE\n",
        "adult_missing = adult.isnull().sum()\n",
        "print(adult_missing)"
      ]
    },
    {
      "cell_type": "markdown",
      "metadata": {
        "id": "9XcdByhCq01q"
      },
      "source": [
        "**Task 5 Test**"
      ]
    },
    {
      "cell_type": "code",
      "execution_count": 45,
      "metadata": {
        "deletable": false,
        "editable": false,
        "nbgrader": {
          "cell_type": "code",
          "checksum": "5620fd488a79367dcab9c416a257e340",
          "grade": true,
          "grade_id": "cell-fa29b69831f8efb7",
          "locked": true,
          "points": 1,
          "schema_version": 3,
          "solution": false,
          "task": false
        },
        "id": "OU6Hz8ezq01r"
      },
      "outputs": [],
      "source": [
        "# Task 5 - Test\n",
        "\n",
        "# Hidden tests - you will see the results when you submit to Canvas"
      ]
    },
    {
      "cell_type": "markdown",
      "metadata": {
        "id": "1LCvfKCaCuf_"
      },
      "source": [
        "**Task 6** - Viewing DataFrame statistics\n",
        "\n",
        "Let's look at some of the *summary statistics* of our dataset. We can use the .describe() function in order to see the summary statistics of the numeric columns.\n",
        "\n",
        "Look at the statistics for the `adult` DataFrame and then complete the following two tasks:\n",
        "\n",
        "* Find the value for the mean `age` and assign it to the variable `mean_age` (your value should be a float and defined to two decimal places)\n",
        "* Find the standard deviation (std) for the `hours-per-week` variable and assign it to `std_hpw` (your value should be a float and defined to two decimal places)\n",
        "\n",
        "Are there any values shown that might be a code for missing data?  We'll learn how to change the values in a DataFrame in the next module."
      ]
    },
    {
      "cell_type": "code",
      "execution_count": 57,
      "metadata": {
        "deletable": false,
        "id": "V_9FGaBLBAu5",
        "nbgrader": {
          "cell_type": "code",
          "checksum": "c144574a7792a82c7b358d2c587ae554",
          "grade": false,
          "grade_id": "cell-379c9d6a1454cb65",
          "locked": false,
          "schema_version": 3,
          "solution": true,
          "task": false
        },
        "colab": {
          "base_uri": "https://localhost:8080/"
        },
        "outputId": "3899eca9-7208-4678-a726-1c3346e45b4e"
      },
      "outputs": [
        {
          "output_type": "stream",
          "name": "stdout",
          "text": [
            "38.58\n",
            "12.35\n"
          ]
        }
      ],
      "source": [
        "# Task 6\n",
        "\n",
        "# YOUR CODE HERE\n",
        "adult.describe()\n",
        "mean_age = adult['age'].mean().round(2)\n",
        "print(mean_age)\n",
        "\n",
        "std_hpw = adult['hours-per-week'].std().round(2)\n",
        "print(std_hpw)"
      ]
    },
    {
      "cell_type": "markdown",
      "metadata": {
        "id": "q7HaFTBmq01s"
      },
      "source": [
        "**Task 6 Test**"
      ]
    },
    {
      "cell_type": "code",
      "execution_count": 56,
      "metadata": {
        "deletable": false,
        "editable": false,
        "nbgrader": {
          "cell_type": "code",
          "checksum": "53e593b3d00981adf5f754fe663e8ca1",
          "grade": true,
          "grade_id": "cell-26b21a59dd35ddb1",
          "locked": true,
          "points": 1,
          "schema_version": 3,
          "solution": false,
          "task": false
        },
        "id": "nV5o27q8q01s"
      },
      "outputs": [],
      "source": [
        "# Task 6 - Test\n",
        "\n",
        "# Hidden tests - you will see the results when you submit to Canvas"
      ]
    },
    {
      "cell_type": "markdown",
      "metadata": {
        "id": "n_rcgbaqcleU"
      },
      "source": [
        "**Task 7** - Summary statis for non-numeric columns\n",
        "\n",
        "We have some columns in this dataset that are non-numeric or object columns. This is usually a string objects. Let's use the `describe()` function again but include the argument `exclude='number)` to exclude the numeric columns.\n",
        "\n",
        "Using the results of `describe(exclude='number')`, complete the following two tasks:\n",
        "\n",
        "* Find the number of unique `education` values and assign it to `unique_edu` (your value should be an integer)\n",
        "* Find the number of times the most frequent observation for `income` occurs and assign it to `freq_income` (your value should be an integer) *(Note: this is not the income value itself, just how many times it occurs)*"
      ]
    },
    {
      "cell_type": "code",
      "execution_count": 76,
      "metadata": {
        "deletable": false,
        "nbgrader": {
          "cell_type": "code",
          "checksum": "32f8baa85099a4a3a83d7764f0fc759a",
          "grade": false,
          "grade_id": "cell-11915c7656419ee3",
          "locked": false,
          "schema_version": 3,
          "solution": true,
          "task": false
        },
        "id": "lbaBb16Dq01t",
        "colab": {
          "base_uri": "https://localhost:8080/"
        },
        "outputId": "5242d4de-92ba-439a-f3b7-dd794b4c1853"
      },
      "outputs": [
        {
          "output_type": "stream",
          "name": "stdout",
          "text": [
            "16\n",
            "24720\n"
          ]
        }
      ],
      "source": [
        "# Task 7\n",
        "\n",
        "# YOUR CODE HERE\n",
        "test = adult.describe(exclude='number')\n",
        "unique_edu = test['education']['unique']\n",
        "print(unique_edu)\n",
        "\n",
        "freq_income = test['income']['freq']\n",
        "print(freq_income)"
      ]
    },
    {
      "cell_type": "code",
      "execution_count": 74,
      "metadata": {
        "id": "YkU7uw4Oq01t",
        "colab": {
          "base_uri": "https://localhost:8080/"
        },
        "outputId": "9f542849-0706-4714-c0dd-848e789fcdba"
      },
      "outputs": [
        {
          "output_type": "execute_result",
          "data": {
            "text/plain": [
              " <=50K    24720\n",
              " >50K      7841\n",
              "Name: income, dtype: int64"
            ]
          },
          "metadata": {},
          "execution_count": 74
        }
      ],
      "source": [
        "adult.describe(exclude='number')\n",
        "adult['income'].value_counts()"
      ]
    },
    {
      "cell_type": "markdown",
      "metadata": {
        "id": "Kta9KSY9q01u"
      },
      "source": [
        "**Task 7 Test**"
      ]
    },
    {
      "cell_type": "code",
      "execution_count": 77,
      "metadata": {
        "deletable": false,
        "editable": false,
        "nbgrader": {
          "cell_type": "code",
          "checksum": "0e5f56f06249a66c475f8c46f0b07a7d",
          "grade": true,
          "grade_id": "cell-00ef7970684097e5",
          "locked": true,
          "points": 1,
          "schema_version": 3,
          "solution": false,
          "task": false
        },
        "id": "9PRcshX9q01v"
      },
      "outputs": [],
      "source": [
        "# Task 7 - Test\n",
        "\n",
        "# Hidden tests - you will see the results when you submit to Canvas"
      ]
    },
    {
      "cell_type": "markdown",
      "metadata": {
        "id": "o_E_rvFUdP8O"
      },
      "source": [
        "**Task 8** - Finding value counts\n",
        "\n",
        "Let's look more specifically at the `relationship` column and perform a count of the number of observations for each category. We can see how many categories we have by using the `.unique()` method on the column. Then, we can use `.value_counts()` to count the number of observations in each category.\n",
        "\n",
        "* View the unique values in the `relationship` column with `.unique()`\n",
        "* View the number of observations for each value with `.value_counts()`\n",
        "* Find the counts for `Other-relative` and assign to the variable `adult_other_rel`"
      ]
    },
    {
      "cell_type": "code",
      "execution_count": 93,
      "metadata": {
        "deletable": false,
        "id": "dpz5fUqJdTE_",
        "nbgrader": {
          "cell_type": "code",
          "checksum": "3b0477bc8586b6d06b246aa34c18b907",
          "grade": false,
          "grade_id": "cell-2498319aac6c6e38",
          "locked": false,
          "schema_version": 3,
          "solution": true,
          "task": false
        },
        "colab": {
          "base_uri": "https://localhost:8080/"
        },
        "outputId": "f564a130-62f2-4239-c9f6-4ca920947726"
      },
      "outputs": [
        {
          "output_type": "execute_result",
          "data": {
            "text/plain": [
              "32561       1\n",
              "6           1\n",
              " Husband    1\n",
              "13193       1\n",
              "Name: relationship, dtype: int64"
            ]
          },
          "metadata": {},
          "execution_count": 93
        }
      ],
      "source": [
        "# Task 8\n",
        "\n",
        "# YOUR CODE HERE\n",
        "\n",
        "test['relationship'].unique()\n",
        "test['relationship'].value_counts()\n",
        "#adult_other_rel = test['Other-relative'].value_counts()"
      ]
    },
    {
      "cell_type": "markdown",
      "metadata": {
        "id": "cwtzlUEjq01w"
      },
      "source": [
        "**Task 8 Test**"
      ]
    },
    {
      "cell_type": "code",
      "execution_count": 91,
      "metadata": {
        "deletable": false,
        "editable": false,
        "nbgrader": {
          "cell_type": "code",
          "checksum": "b37410acc6d088ec026cdf4a726d72ad",
          "grade": true,
          "grade_id": "cell-ee00a51b05f5cc8e",
          "locked": true,
          "points": 1,
          "schema_version": 3,
          "solution": false,
          "task": false
        },
        "id": "QUZJHuROq01w"
      },
      "outputs": [],
      "source": [
        "# Task 8 - Test\n",
        "\n",
        "# Hidden tests - you will see the results when you submit to Canvas"
      ]
    },
    {
      "cell_type": "markdown",
      "metadata": {
        "id": "ZEs60bkrdnsU"
      },
      "source": [
        "**Task 9** - Create a Series\n",
        "\n",
        "A column of a DataFrame is a pandas Series. Using the `adult` DataFrame, create a Series from the `occupation` column.\n",
        "\n",
        "* Create a Series from the `occupation` column and name it `adult_occup`"
      ]
    },
    {
      "cell_type": "code",
      "execution_count": 96,
      "metadata": {
        "deletable": false,
        "id": "ydjVZQA3du6l",
        "nbgrader": {
          "cell_type": "code",
          "checksum": "174f626dd82f9e92eb19f1c21e5087fc",
          "grade": false,
          "grade_id": "cell-d1bb196ab00c4bd3",
          "locked": false,
          "schema_version": 3,
          "solution": true,
          "task": false
        },
        "colab": {
          "base_uri": "https://localhost:8080/"
        },
        "outputId": "991bd530-7645-4788-d367-46ee38470f62"
      },
      "outputs": [
        {
          "output_type": "stream",
          "name": "stdout",
          "text": [
            "0              Adm-clerical\n",
            "1           Exec-managerial\n",
            "2         Handlers-cleaners\n",
            "3         Handlers-cleaners\n",
            "4            Prof-specialty\n",
            "                ...        \n",
            "32556          Tech-support\n",
            "32557     Machine-op-inspct\n",
            "32558          Adm-clerical\n",
            "32559          Adm-clerical\n",
            "32560       Exec-managerial\n",
            "Name: occupation, Length: 32561, dtype: object\n"
          ]
        }
      ],
      "source": [
        "# Task 9\n",
        "\n",
        "# YOUR CODE HERE\n",
        "adult_occup = pd.Series(adult['occupation'])\n",
        "print(adult_occup)"
      ]
    },
    {
      "cell_type": "markdown",
      "metadata": {
        "id": "aP13JR3Jq01-"
      },
      "source": [
        "**Task 9 Test**"
      ]
    },
    {
      "cell_type": "code",
      "execution_count": 97,
      "metadata": {
        "deletable": false,
        "editable": false,
        "nbgrader": {
          "cell_type": "code",
          "checksum": "e393fefb046b14831077242eff640471",
          "grade": true,
          "grade_id": "cell-e43fc22d03a71561",
          "locked": true,
          "points": 1,
          "schema_version": 3,
          "solution": false,
          "task": false
        },
        "id": "6hp1NqlWq01-"
      },
      "outputs": [],
      "source": [
        "# Task 9 - Test\n",
        "\n",
        "# These tests are for you to check your work before submitting\n",
        "assert isinstance(adult_occup, pd.Series), 'Have you created the correct Series?'\n",
        "\n",
        "# Hidden tests - you will see the results when you submit to Canvas"
      ]
    },
    {
      "cell_type": "markdown",
      "metadata": {
        "id": "FnOWk3zMOuqz"
      },
      "source": [
        "**Task 10** - Practice with a new dataset\n",
        "\n",
        "Let's use some of what we've learned so far to load in a new dataset and answer some questions. For now, we're going to read in the data from the website where it is stored. But, at the end of this project, you can review the instructions for uploading a file to Google Colab,\n",
        "\n",
        "* Use [this link (right click to copy)](https://raw.githubusercontent.com/LambdaSchool/data-science-practice-datasets/main/unit_1/NASCAR/nascard.csv) as the URL and assign it to the variable `data_url2`\n",
        "* Read in the data into a DataFrame called `nascar`; the CSV already includes a header\n",
        "\n",
        "More information about this data can be found [here](https://github.com/LambdaSchool/data-science-practice-datasets/tree/main/unit_1/NASCAR)."
      ]
    },
    {
      "cell_type": "code",
      "execution_count": 100,
      "metadata": {
        "deletable": false,
        "nbgrader": {
          "cell_type": "code",
          "checksum": "d240cb09504b19a2e7dd6a5d7a37fbb7",
          "grade": false,
          "grade_id": "cell-04b98cad3de4cab4",
          "locked": false,
          "schema_version": 3,
          "solution": true,
          "task": false
        },
        "id": "mhbD7105q01_"
      },
      "outputs": [],
      "source": [
        "# Task 10\n",
        "\n",
        "# YOUR CODE HERE\n",
        "data_url2 = 'https://raw.githubusercontent.com/LambdaSchool/data-science-practice-datasets/main/unit_1/NASCAR/nascard.csv'\n",
        "d = pd.read_csv(data_url2)\n",
        "nascar = pd.DataFrame(data = d)"
      ]
    },
    {
      "cell_type": "markdown",
      "metadata": {
        "id": "Ww02sdZIq01_"
      },
      "source": [
        "**Task 10 Test**"
      ]
    },
    {
      "cell_type": "code",
      "execution_count": 101,
      "metadata": {
        "deletable": false,
        "editable": false,
        "nbgrader": {
          "cell_type": "code",
          "checksum": "3315b366b48374f265a3935c4c2d0ff2",
          "grade": true,
          "grade_id": "cell-8b7550f8a360559b",
          "locked": true,
          "points": 1,
          "schema_version": 3,
          "solution": false,
          "task": false
        },
        "id": "BIWTAP5yq01_"
      },
      "outputs": [],
      "source": [
        "# Task 10 - Test\n",
        "\n",
        "# These tests are for you to check your work before submitting\n",
        "assert isinstance(nascar, pd.DataFrame), 'Have you created the nascar DataFrame?'\n",
        "\n",
        "# Hidden tests - you will see the results when you submit to Canvas"
      ]
    },
    {
      "cell_type": "markdown",
      "metadata": {
        "id": "zb8GeYREq01_"
      },
      "source": [
        "**Task 11** - Look at the header\n",
        "\n",
        "Now, let's look at the data. We'll use the `.head()` method to view the first rows of the DataFrame\n",
        "\n",
        "* Assign the output from `.head()` to a DataFrame called `nascar_head` (use the default values of the method)"
      ]
    },
    {
      "cell_type": "code",
      "execution_count": 105,
      "metadata": {
        "deletable": false,
        "nbgrader": {
          "cell_type": "code",
          "checksum": "339061ac9982b3fd4a659548499dee2b",
          "grade": false,
          "grade_id": "cell-01b2cebe2cab129a",
          "locked": false,
          "schema_version": 3,
          "solution": true,
          "task": false
        },
        "id": "qgZ2s17rq02A",
        "colab": {
          "base_uri": "https://localhost:8080/"
        },
        "outputId": "053415d3-e260-4cb0-d6e1-272bc9c35cdc"
      },
      "outputs": [
        {
          "output_type": "stream",
          "name": "stdout",
          "text": [
            "    serRace  year  yearRace  finish  start  laps  prize  carsRace    carMake  \\\n",
            "0         1  1975         1       1      1   191  12035        35    Matador   \n",
            "1         1  1975         1       2      2   191   8135        35    Mercury   \n",
            "2         1  1975         1       3     25   184   6535        35  Chevrolet   \n",
            "3         1  1975         1       4     27   183   5035        35      Dodge   \n",
            "4         1  1975         1       5     22   178   3835        35       Ford   \n",
            "5         1  1975         1       6     35   175   2885        35  Chevrolet   \n",
            "6         1  1975         1       7      3   172   3185        35      Dodge   \n",
            "7         1  1975         1       8     21   168   2485        35  Chevrolet   \n",
            "8         1  1975         1       9     33   167   2335        35      Dodge   \n",
            "9         1  1975         1      10     10   166   2185        35  Chevrolet   \n",
            "10        1  1975         1      11     17   166   1985        35  Chevrolet   \n",
            "11        1  1975         1      12     24   148   1835        35  Chevrolet   \n",
            "12        1  1975         1      13      6   145   2235        35      Dodge   \n",
            "13        1  1975         1      14     28   142   1635        35  Chevrolet   \n",
            "14        1  1975         1      15     18   135   1535        35  Chevrolet   \n",
            "\n",
            "              driver  \n",
            "0       BobbyAllison  \n",
            "1       DavidPearson  \n",
            "2        CecilGordon  \n",
            "3         DaveMarcis  \n",
            "4        ElmoLangley  \n",
            "5        JamesHylton  \n",
            "6       RichardPetty  \n",
            "7       GaryMatthews  \n",
            "8            EdNegre  \n",
            "9     HershelMcGriff  \n",
            "10  RichardChildress  \n",
            "11      DonPuskarich  \n",
            "12          RayElder  \n",
            "13      J.D.McDuffie  \n",
            "14         LarryEsau  \n"
          ]
        }
      ],
      "source": [
        "# Task 11\n",
        "\n",
        "# YOUR CODE HERE\n",
        "nascar_head = nascar.head(15)\n",
        "print(nascar_head)"
      ]
    },
    {
      "cell_type": "markdown",
      "metadata": {
        "id": "K6asCM7Cq02A"
      },
      "source": [
        "**Task 11 Test**"
      ]
    },
    {
      "cell_type": "code",
      "execution_count": null,
      "metadata": {
        "deletable": false,
        "editable": false,
        "nbgrader": {
          "cell_type": "code",
          "checksum": "1c8790f27229d0afe3489d42aba50984",
          "grade": true,
          "grade_id": "cell-4abee0d24322116e",
          "locked": true,
          "points": 1,
          "schema_version": 3,
          "solution": false,
          "task": false
        },
        "id": "cjLyKcX4q02A"
      },
      "outputs": [],
      "source": [
        "# Task 11 - Test\n",
        "\n",
        "# These tests are for you to check your work before submitting\n",
        "assert isinstance(nascar_head, pd.DataFrame), 'Have you created the nascar_head DataFrame?'\n",
        "\n",
        "# Hidden tests - you will see the results when you submit to Canvas"
      ]
    },
    {
      "cell_type": "markdown",
      "metadata": {
        "id": "2U8Jb7BjgVFF"
      },
      "source": [
        "**Task 12** - Dataset description and variable types\n",
        "\n",
        "Using your `nascar` DataFrame, answer the following questions. Remember - you can use methods like `describe()` and `info()` to print out information about the variable types in your DataFrame. Remember, you can use `describe(exclude='number')` to view non-numeric variable types.\n",
        "\n",
        "You can view more information about the data [here](http://users.stat.ufl.edu/~winner/data/nascard.txt).\n",
        "\n",
        "These questions are **not autograded** but are part of the project!\n",
        "\n",
        "Answer the following questions for these variables: `prize`, `carMake`, `driver`\n",
        "\n",
        "*   Is the variable categorical or quantitative?\n",
        "*   If the variable is categorical, determine if it is ordinal, nominal or an identifier variable.\n",
        "*   If the variable is quantitative, determine if it is continuous or discrete."
      ]
    },
    {
      "cell_type": "markdown",
      "metadata": {
        "id": "gCTwEmo0q02B"
      },
      "source": [
        "**Task 12 Short Answer**\n",
        "\n",
        "* `prize`: YOUR ANSWER\n",
        "* `carMake`: YOUR ANSWER\n",
        "* `driver`: YOUR ANSWER"
      ]
    },
    {
      "cell_type": "code",
      "execution_count": null,
      "metadata": {
        "deletable": false,
        "nbgrader": {
          "cell_type": "code",
          "checksum": "3a28b698c2a12e92c223dca7870318ff",
          "grade": false,
          "grade_id": "cell-9463f6dcbfde1d7f",
          "locked": false,
          "schema_version": 3,
          "solution": true,
          "task": false
        },
        "id": "F8L-vPSGq02B"
      },
      "outputs": [],
      "source": [
        "# Task 12\n",
        "\n",
        "# Ignore the YOUR CODE HERE for this cell\n",
        "# YOUR CODE HERE\n",
        "raise NotImplementedError()"
      ]
    },
    {
      "cell_type": "markdown",
      "metadata": {
        "id": "E1jpk7qtq02B"
      },
      "source": [
        "**Extra Practice!!**\n",
        "\n",
        "Now we're going to practice loading a dataset that you have saved on your computer. Since we're working in a notebook on Google Colab, you'll need to upload your file to the notebook runtime in order to read in the data.\n",
        "\n",
        "* Use [this link](https://raw.githubusercontent.com/LambdaSchool/data-science-practice-datasets/main/unit_1/NASCAR/nascard.csv) to download your dataset as a csv file to your computer.\n",
        "* Upload to Google Colab one of two ways:\n",
        "    * using `from google.colab import files` then `uploaded = files.upload()`; read in the file with pd.read_csv(filename)\n",
        "    * using the file upload feature in the left side panel of the Colab notebook; read in the file with pd.read_csv(filename)\n",
        "\n",
        "More information about this data can be found [here](https://github.com/LambdaSchool/data-science-practice-datasets/tree/main/unit_1/NASCAR).\n",
        "\n",
        "**DELETE or COMMENT OUT your Colab code**"
      ]
    },
    {
      "cell_type": "code",
      "execution_count": null,
      "metadata": {
        "id": "wE_RCi0AfTrz"
      },
      "outputs": [],
      "source": [
        "# Extra Practice\n",
        "\n",
        "## DELETE OR COMMENT OUT YOUR COLAB CODE BEFORE SUBMITTING THE NOTEBOOK"
      ]
    }
  ],
  "metadata": {
    "colab": {
      "provenance": [],
      "include_colab_link": true
    },
    "kernelspec": {
      "display_name": "Python 3",
      "language": "python",
      "name": "python3"
    },
    "language_info": {
      "codemirror_mode": {
        "name": "ipython",
        "version": 3
      },
      "file_extension": ".py",
      "mimetype": "text/x-python",
      "name": "python",
      "nbconvert_exporter": "python",
      "pygments_lexer": "ipython3",
      "version": "3.7.4"
    }
  },
  "nbformat": 4,
  "nbformat_minor": 0
}